{
 "cells": [
  {
   "cell_type": "code",
   "execution_count": null,
   "id": "98186f09-0ad0-4a74-99e7-69202e0f7d33",
   "metadata": {},
   "outputs": [],
   "source": [
    "!pip install pandas\n",
    "!pip install lxml"
   ]
  },
  {
   "cell_type": "code",
   "execution_count": 1,
   "id": "ecaaef4a-3aaf-4dab-9a7c-3f46e871a343",
   "metadata": {
    "tags": []
   },
   "outputs": [],
   "source": [
    "import requests \n",
    "import re\n",
    "from bs4 import BeautifulSoup\n",
    "from urllib.parse import urljoin\n",
    "import zipfile\n",
    "import io\n",
    "import os\n",
    "import xml.etree.ElementTree as ET\n",
    "import requests\n",
    "import time\n",
    "import random\n",
    "from tqdm import tqdm"
   ]
  },
  {
   "cell_type": "code",
   "execution_count": 2,
   "id": "0814ff8d",
   "metadata": {
    "tags": []
   },
   "outputs": [],
   "source": [
    "# Alternative mit Weblink\n",
    "url = \"https://www.rechtsprechung-im-internet.de/rii-toc.xml\"\n",
    "response = requests.get(url)\n",
    "xml_string = response.text\n"
   ]
  },
  {
   "cell_type": "code",
   "execution_count": 3,
   "id": "a904a3ee-8243-4e63-b792-7d98488ee5cb",
   "metadata": {
    "tags": []
   },
   "outputs": [],
   "source": [
    "# Inhalte in BeautifulSoup\n",
    "soup = BeautifulSoup(xml_string, 'xml',)\n",
    "items = soup.find_all('item')"
   ]
  },
  {
   "cell_type": "code",
   "execution_count": 4,
   "id": "14450fda",
   "metadata": {
    "tags": []
   },
   "outputs": [
    {
     "data": {
      "text/plain": [
       "75648"
      ]
     },
     "execution_count": 4,
     "metadata": {},
     "output_type": "execute_result"
    }
   ],
   "source": [
    "len(items)"
   ]
  },
  {
   "cell_type": "code",
   "execution_count": 5,
   "id": "c7c91aac-7377-43be-8c63-03aabfeda0f5",
   "metadata": {
    "tags": []
   },
   "outputs": [],
   "source": [
    "# Hier kann bei Download abbruch bestimmt werden, wo es weitergene soll.\n",
    "items = items[75561:]"
   ]
  },
  {
   "cell_type": "code",
   "execution_count": 6,
   "id": "0eddeadd-f8e4-416b-a6fe-cd43e5647e7f",
   "metadata": {
    "tags": []
   },
   "outputs": [],
   "source": [
    "links_list = []"
   ]
  },
  {
   "cell_type": "code",
   "execution_count": 7,
   "id": "67511b36-b542-4f68-9721-24b0b8f4437b",
   "metadata": {
    "tags": []
   },
   "outputs": [],
   "source": [
    "# Begrenzte Ausgabe\n",
    "for item in items:\n",
    "    link = item.find('link').text\n",
    "    \n",
    "    links_list.append(link)"
   ]
  },
  {
   "cell_type": "code",
   "execution_count": 8,
   "id": "50cac7fd-0391-49a4-a721-b08564abb25f",
   "metadata": {
    "tags": []
   },
   "outputs": [],
   "source": [
    "os.makedirs(\"Gerichtsurteile\", exist_ok=True)"
   ]
  },
  {
   "cell_type": "code",
   "execution_count": 9,
   "id": "4ec0bd4b-05d4-4505-806d-248401534e29",
   "metadata": {
    "tags": []
   },
   "outputs": [],
   "source": [
    "target_dir = \"Gerichtsurteile\""
   ]
  },
  {
   "cell_type": "code",
   "execution_count": 10,
   "id": "0b48fdc5-23bd-4a87-8027-270b53e6e6d6",
   "metadata": {
    "tags": []
   },
   "outputs": [],
   "source": [
    "def download_and_extract_zip(urls, target_dir):\n",
    "    # Überprüfe, ob urls tatsächlich eine Liste ist und ob sie nicht leer ist\n",
    "    if not isinstance(urls, list) or not urls:\n",
    "        raise ValueError(\"Die Eingabe muss eine nicht-leere Liste von URLs sein.\")\n",
    "    \n",
    "    # Stelle sicher, dass der Zielordner existiert oder erstelle ihn\n",
    "    os.makedirs(target_dir, exist_ok=True)\n",
    "    \n",
    "    for url in tqdm(urls):\n",
    "        #print(f'Processing URL: {url}')\n",
    "        \n",
    "        # Sende eine HTTP GET-Anfrage an die URL\n",
    "        response = requests.get(url)\n",
    "        if response.status_code == 200:\n",
    "            # Extrahiere den Dateinamen aus dem Link\n",
    "            start_index = url.rfind('/') + 1\n",
    "            end_index = url.rfind('.zip') + 4  # `.zip` ist 4 Zeichen lang\n",
    "            zip_filename = url[start_index:end_index]\n",
    "            \n",
    "            # Bereinige den Dateinamen\n",
    "            cleaned_filename = re.sub(r'[^a-zA-Z0-9]', '_', zip_filename)\n",
    "            zip_file_path = os.path.join(target_dir, cleaned_filename)\n",
    "            #print(f'Downloading ZIP file: {zip_file_path}')\n",
    "            \n",
    "            # Speichere die ZIP-Datei lokal im Zielordner\n",
    "            with open(zip_file_path, 'wb') as f:\n",
    "                f.write(response.content)\n",
    "            #print(f'ZIP-Datei erfolgreich heruntergeladen: {zip_file_path}')\n",
    "            \n",
    "            # Extrahiere die Zahlen aus dem Dateinamen\n",
    "            numbers = re.findall(r'\\d+', zip_filename)\n",
    "            if numbers:\n",
    "                extracted_numbers = numbers[0]  # Nimm die erste gefundene Zahl\n",
    "            else:\n",
    "                extracted_numbers = 'unknown'\n",
    "            \n",
    "            # Erstelle den Namen für das entpackte Verzeichnis\n",
    "            #extract_dir = os.path.join(target_dir, f'jb_JURE{extracted_numbers}_entzip')\n",
    "            #os.makedirs(extract_dir, exist_ok=True)  # Stelle sicher, dass das Zielverzeichnis existiert\n",
    "            \n",
    "            # Entpacke die ZIP-Datei\n",
    "            unpacked_xmls = \"Gerichtsurteile/_xml\"\n",
    "            with zipfile.ZipFile(zip_file_path, 'r') as zip_ref:\n",
    "                zip_ref.extractall(unpacked_xmls)\n",
    "            #print(f'Dateien erfolgreich in {extract_dir} entpackt.')\n",
    "            \n",
    "            # Optional: Lösche die ZIP-Datei nach dem Entpacken\n",
    "            os.remove(zip_file_path)\n",
    "        else:\n",
    "            print(f'Fehler beim Herunterladen der ZIP-Datei. Statuscode: {response.status_code}')\n",
    "            print(url)\n",
    "        \n",
    "        time.sleep(1 + random.random()/4)"
   ]
  },
  {
   "cell_type": "code",
   "execution_count": null,
   "id": "464eeb6b-5a90-407b-91d9-cde1c91a83ad",
   "metadata": {
    "tags": []
   },
   "outputs": [
    {
     "name": "stderr",
     "output_type": "stream",
     "text": [
      " 53%|█████▎    | 46/87 [00:56<00:50,  1.24s/it]"
     ]
    }
   ],
   "source": [
    "download_and_extract_zip(links_list, target_dir)"
   ]
  },
  {
   "cell_type": "code",
   "execution_count": 2,
   "id": "9a513a23-d6f7-4e0d-ba12-b5b14d1645ed",
   "metadata": {
    "tags": []
   },
   "outputs": [],
   "source": [
    "xmls = [x for x in os.listdir(\"Gerichtsurteile/_xml\") if x[-4:] == \".xml\"]"
   ]
  },
  {
   "cell_type": "code",
   "execution_count": 8,
   "id": "5ceaa62c-8c47-4f52-858b-37cd511a73e3",
   "metadata": {
    "tags": []
   },
   "outputs": [
    {
     "name": "stderr",
     "output_type": "stream",
     "text": [
      "100%|██████████| 75561/75561 [20:11<00:00, 62.35it/s]\n"
     ]
    }
   ],
   "source": [
    "# Gerichtsurteile aus xml Format in txt Dateien uberführen\n",
    "for i in tqdm(xmls):\n",
    "    urteil_xml = BeautifulSoup(open(\"Gerichtsurteile/_xml/\"+i,\"r\"),\"xml\")\n",
    "    first_levels = urteil_xml.find(\"dokument\").find_all(recursive=False)\n",
    "    doc_as_str = \"\"\n",
    "    ls = []\n",
    "    for element in first_levels:\n",
    "        dl_elements = element.find_all(\"dl\", class_=\"RspDL\")\n",
    "        for dl in dl_elements:\n",
    "            if dl.text.strip() != \"\":\n",
    "                if \"\\n\\n\\n\" in dl.text.strip():\n",
    "                    doc_as_str+= dl.text.strip().split(\"\\n\\n\\n\")[1]+\"\\n\"\n",
    "                    ls.append(dl.text.strip())\n",
    "    doc_as_str = doc_as_str.strip()\n",
    "    gericht = urteil_xml.find(\"gertyp\").text\n",
    "    os.makedirs(f\"Gerichtsurteile/{gericht}/\", exist_ok=True)\n",
    "    new_name = i.replace(\"xml\",\"txt\")\n",
    "    filename = f\"Gerichtsurteile/{gericht}/{new_name}\"\n",
    "    with open(filename, \"w\") as f:\n",
    "        f.write(doc_as_str)"
   ]
  }
 ],
 "metadata": {
  "kernelspec": {
   "display_name": "Python 3 (ipykernel)",
   "language": "python",
   "name": "python3"
  },
  "language_info": {
   "codemirror_mode": {
    "name": "ipython",
    "version": 3
   },
   "file_extension": ".py",
   "mimetype": "text/x-python",
   "name": "python",
   "nbconvert_exporter": "python",
   "pygments_lexer": "ipython3",
   "version": "3.10.11"
  },
  "toc-autonumbering": true,
  "toc-showmarkdowntxt": true
 },
 "nbformat": 4,
 "nbformat_minor": 5
}
