{
 "cells": [
  {
   "cell_type": "code",
   "execution_count": 1,
   "id": "0b9b5697-234d-41b2-a8b9-20404e34df7b",
   "metadata": {},
   "outputs": [
    {
     "name": "stdout",
     "output_type": "stream",
     "text": [
      "Requirement already satisfied: pandas in /opt/conda/lib/python3.10/site-packages (2.0.1)\n",
      "Requirement already satisfied: python-dateutil>=2.8.2 in /opt/conda/lib/python3.10/site-packages (from pandas) (2.8.2)\n",
      "Requirement already satisfied: pytz>=2020.1 in /opt/conda/lib/python3.10/site-packages (from pandas) (2023.3)\n",
      "Requirement already satisfied: tzdata>=2022.1 in /opt/conda/lib/python3.10/site-packages (from pandas) (2023.3)\n",
      "Requirement already satisfied: numpy>=1.21.0 in /opt/conda/lib/python3.10/site-packages (from pandas) (1.23.5)\n",
      "Requirement already satisfied: six>=1.5 in /opt/conda/lib/python3.10/site-packages (from python-dateutil>=2.8.2->pandas) (1.16.0)\n",
      "\u001b[33mWARNING: There was an error checking the latest version of pip.\u001b[0m\u001b[33m\n",
      "\u001b[0m"
     ]
    }
   ],
   "source": [
    "!pip install pandas\n",
    "!pip install openpyxl"
   ]
  },
  {
   "cell_type": "code",
   "execution_count": 2,
   "id": "3c16fc95-2e66-48e2-b880-d740afe0408e",
   "metadata": {
    "tags": []
   },
   "outputs": [],
   "source": [
    "import os\n",
    "import random\n",
    "import shutil\n",
    "import pandas as pd"
   ]
  },
  {
   "cell_type": "code",
   "execution_count": 3,
   "id": "8810ed2b-0120-4887-ab2c-9b63b3f58371",
   "metadata": {
    "tags": []
   },
   "outputs": [],
   "source": [
    "# Path to the 'gerichtsurteile' folder\n",
    "directory = 'Gerichtsurteile'\n",
    "\n",
    "# Use os.walk to iterate through all subdirectories and files\n",
    "txt_files = []\n",
    "for root, dirs, files in os.walk(directory):\n",
    "    for file in files:\n",
    "        if file.endswith('.txt'):\n",
    "            # Get the full path of the file\n",
    "            txt_files.append(os.path.join(root, file))"
   ]
  },
  {
   "cell_type": "code",
   "execution_count": 4,
   "id": "66cf9b58-951a-424a-9299-9e62ae300f07",
   "metadata": {
    "tags": []
   },
   "outputs": [
    {
     "data": {
      "text/plain": [
       "75561"
      ]
     },
     "execution_count": 4,
     "metadata": {},
     "output_type": "execute_result"
    }
   ],
   "source": [
    "len(txt_files)"
   ]
  },
  {
   "cell_type": "code",
   "execution_count": 5,
   "id": "c9ce9b8f-ce46-4d28-82dd-9131e860f7ff",
   "metadata": {
    "tags": []
   },
   "outputs": [],
   "source": [
    "sampled_files = random.sample(txt_files, 100)"
   ]
  },
  {
   "cell_type": "code",
   "execution_count": 6,
   "id": "e14504ff-ddfd-4bc8-9ecc-529a819115be",
   "metadata": {
    "tags": []
   },
   "outputs": [],
   "source": [
    "for txt_file in sampled_files[0:50]:\n",
    "    shutil.move(txt_file, \"Sample_1\")\n",
    "    \n",
    "for txt_file in sampled_files[50:]:\n",
    "    shutil.move(txt_file, \"Sample_2\")"
   ]
  },
  {
   "cell_type": "code",
   "execution_count": 8,
   "id": "975f2a17-782e-4b91-9d85-cc08cc2d275f",
   "metadata": {
    "tags": []
   },
   "outputs": [],
   "source": [
    "sample_folder = 'Sample_1'\n",
    "\n",
    "# Get a list of all files in the folder\n",
    "files_in_sample_1 = [file for file in os.listdir(sample_folder) if os.path.isfile(os.path.join(sample_folder, file))]\n",
    "\n",
    "# Create a DataFrame with the files\n",
    "df = pd.DataFrame(files_in_sample_1, columns=['File Name'])\n",
    "\n",
    "df.to_excel(\"Sample_1/Sample_1.xlsx\")\n",
    "\n",
    "sample_folder = 'Sample_2'\n",
    "\n",
    "# Get a list of all files in the folder\n",
    "files_in_sample_2 = [file for file in os.listdir(sample_folder) if os.path.isfile(os.path.join(sample_folder, file))]\n",
    "\n",
    "# Create a DataFrame with the files\n",
    "df = pd.DataFrame(files_in_sample_2, columns=['File Name'])\n",
    "\n",
    "df.to_excel(\"Sample_2/Sample_2.xlsx\")"
   ]
  },
  {
   "cell_type": "code",
   "execution_count": 9,
   "id": "3e7ec535-a69c-4d70-b7cb-ddf0df4b5c74",
   "metadata": {
    "tags": []
   },
   "outputs": [
    {
     "data": {
      "text/plain": [
       "'/home/fesch024/judement_classification/Sample_2.zip'"
      ]
     },
     "execution_count": 9,
     "metadata": {},
     "output_type": "execute_result"
    }
   ],
   "source": [
    "import shutil\n",
    "\n",
    "shutil.make_archive(\"Sample_1\", \"zip\", \"Sample_1\")\n",
    "shutil.make_archive(\"Sample_2\", \"zip\", \"Sample_2\")"
   ]
  }
 ],
 "metadata": {
  "kernelspec": {
   "display_name": "Python 3 (ipykernel)",
   "language": "python",
   "name": "python3"
  },
  "language_info": {
   "codemirror_mode": {
    "name": "ipython",
    "version": 3
   },
   "file_extension": ".py",
   "mimetype": "text/x-python",
   "name": "python",
   "nbconvert_exporter": "python",
   "pygments_lexer": "ipython3",
   "version": "3.10.11"
  }
 },
 "nbformat": 4,
 "nbformat_minor": 5
}
